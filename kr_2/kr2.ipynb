{
 "cells": [
  {
   "cell_type": "code",
   "execution_count": 1,
   "id": "3d4ea3bc-492a-4ae4-a5ab-48f470010b43",
   "metadata": {},
   "outputs": [],
   "source": [
    "import numpy as np"
   ]
  },
  {
   "cell_type": "code",
   "execution_count": 2,
   "id": "38b56c86-1b1b-4870-9a68-635b40140f55",
   "metadata": {},
   "outputs": [],
   "source": [
    "# For interactive plots\n",
    "%matplotlib widget"
   ]
  },
  {
   "cell_type": "code",
   "execution_count": 3,
   "id": "27c2ff50",
   "metadata": {},
   "outputs": [],
   "source": [
    "label_font = 12\n",
    "markersize = 8"
   ]
  },
  {
   "cell_type": "code",
   "execution_count": 4,
   "id": "786bdaf3-14fe-49fd-b359-1df5fadc1dd6",
   "metadata": {},
   "outputs": [],
   "source": [
    "def integrate_trap(func, lower, upper, count):\n",
    "    step = (upper - lower) / count;\n",
    "\n",
    "    result = 0.5 * (func(lower) + func(upper))\n",
    "    x_i = lower + step\n",
    "\n",
    "    for i in range(count):\n",
    "        result += func(x_i)\n",
    "        x_i += step\n",
    "        \n",
    "    return result * step\n"
   ]
  },
  {
   "cell_type": "markdown",
   "id": "dce6e06e-936d-4db7-a11e-97f6054822e4",
   "metadata": {},
   "source": [
    "## KR Problem 4"
   ]
  },
  {
   "cell_type": "code",
   "execution_count": 12,
   "id": "27e2d18f",
   "metadata": {},
   "outputs": [],
   "source": [
    "eps = 3 * 1e-4"
   ]
  },
  {
   "cell_type": "code",
   "execution_count": 19,
   "id": "3b43644d",
   "metadata": {},
   "outputs": [],
   "source": [
    "a2 = 1e-3 / 6\n",
    "b2 = 4000\n",
    "n2 = 500"
   ]
  },
  {
   "cell_type": "code",
   "execution_count": 20,
   "id": "1eb12007",
   "metadata": {},
   "outputs": [],
   "source": [
    "def f_2(x: float) -> float: \n",
    "    return np.cos(x) / (2.0 + x ** 2.0)"
   ]
  },
  {
   "cell_type": "code",
   "execution_count": 21,
   "id": "9629f0cc",
   "metadata": {},
   "outputs": [],
   "source": [
    "v2_exact = np.exp(-np.sqrt(2.0)) * np.pi / (2.0 * np.sqrt(2.0))"
   ]
  },
  {
   "cell_type": "code",
   "execution_count": 22,
   "id": "ce7ab779",
   "metadata": {},
   "outputs": [],
   "source": [
    "v2_trap = integrate_trap(f_2, 0, b2, int(n2))"
   ]
  },
  {
   "cell_type": "code",
   "execution_count": 23,
   "id": "05b7c7d5-d98d-47f6-8ca0-e39e3c07b1cd",
   "metadata": {},
   "outputs": [],
   "source": [
    "while (abs(v2_exact - v2_trap) > eps):\n",
    "    n2 *= 2\n",
    "    v2_trap = integrate_trap(f_2, a2, b2, n2)\n",
    "\n",
    "h2 = (b2 - a2) / float(n2)"
   ]
  },
  {
   "cell_type": "code",
   "execution_count": 24,
   "id": "43a5d925",
   "metadata": {},
   "outputs": [
    {
     "name": "stdout",
     "output_type": "stream",
     "text": [
      "Answer:\n",
      "h2 = 0.49999997916666666\n",
      "v2_trap = 0.26995506946057646\n",
      "v2_exact = 0.2700347978496372\n",
      "|exact - trap| = 7.972838906072921e-05\n"
     ]
    }
   ],
   "source": [
    "print(\"Answer:\")\n",
    "print(f'h2 = {h2}')\n",
    "print(f'v2_trap = {v2_trap}')\n",
    "print(f'v2_exact = {v2_exact}')\n",
    "print(f'|exact - trap| = {abs(v2_trap - v2_exact)}')"
   ]
  }
 ],
 "metadata": {
  "kernelspec": {
   "display_name": "Python 3 (ipykernel)",
   "language": "python",
   "name": "python3"
  },
  "language_info": {
   "codemirror_mode": {
    "name": "ipython",
    "version": 3
   },
   "file_extension": ".py",
   "mimetype": "text/x-python",
   "name": "python",
   "nbconvert_exporter": "python",
   "pygments_lexer": "ipython3",
   "version": "3.10.12"
  }
 },
 "nbformat": 4,
 "nbformat_minor": 5
}
