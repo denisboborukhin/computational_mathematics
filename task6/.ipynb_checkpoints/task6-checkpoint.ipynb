{
 "cells": [
  {
   "cell_type": "code",
   "execution_count": 1,
   "id": "3d4ea3bc-492a-4ae4-a5ab-48f470010b43",
   "metadata": {},
   "outputs": [],
   "source": [
    "import numpy as np\n",
    "import scipy as sp\n",
    "import matplotlib as mpl\n",
    "from numpy import linalg    \n",
    "import matplotlib.pyplot as plt\n",
    "from functools import partial\n",
    "from scipy.misc import derivative\n",
    "import itertools"
   ]
  },
  {
   "cell_type": "code",
   "execution_count": 2,
   "id": "38b56c86-1b1b-4870-9a68-635b40140f55",
   "metadata": {},
   "outputs": [],
   "source": [
    "# For interactive plots\n",
    "%matplotlib widget"
   ]
  },
  {
   "cell_type": "code",
   "execution_count": 3,
   "id": "27c2ff50",
   "metadata": {},
   "outputs": [],
   "source": [
    "label_font = 12\n",
    "markersize = 8"
   ]
  },
  {
   "cell_type": "markdown",
   "id": "6a925560",
   "metadata": {},
   "source": [
    "## Problem 1"
   ]
  },
  {
   "cell_type": "code",
   "execution_count": 4,
   "id": "786bdaf3-14fe-49fd-b359-1df5fadc1dd6",
   "metadata": {},
   "outputs": [],
   "source": [
    "def integrate_trap(func, lower, upper, count):\n",
    "    step = (upper - lower) / count;\n",
    "\n",
    "    result = 0.5 * (func(lower) + func(upper))\n",
    "    x_i = lower + step\n",
    "\n",
    "    for i in range(count):\n",
    "        result += func(x_i)\n",
    "        x_i += step\n",
    "        \n",
    "    return result * step\n"
   ]
  },
  {
   "cell_type": "code",
   "execution_count": 5,
   "id": "3f846a64",
   "metadata": {},
   "outputs": [],
   "source": [
    "def integrate_simp(func, a: float, b: float, n: int) -> float:\n",
    "    assert a < b\n",
    "    \n",
    "    h = (b - a) / float(n)\n",
    "    result = 0.0\n",
    "\n",
    "    for i in range(0, n, 2):\n",
    "        x_i = a + i * h\n",
    "        x_j = x_i + h\n",
    "        x_k = x_j + h\n",
    "\n",
    "        f_i = func(x_i)\n",
    "        f_j = func(x_j)\n",
    "        f_k = func(x_k)\n",
    "\n",
    "        result += (f_i + 4.0 * f_j + f_k)\n",
    "\n",
    "    return (result / 3.0) * h\n"
   ]
  },
  {
   "cell_type": "code",
   "execution_count": 6,
   "id": "41c3405a",
   "metadata": {},
   "outputs": [],
   "source": [
    "def f_1(x: float) -> float: \n",
    "    return np.sin(100.0 * x) * np.exp(-x ** 2.0) * np.cos(2.0 * x)"
   ]
  },
  {
   "cell_type": "code",
   "execution_count": 7,
   "id": "e4b7094c",
   "metadata": {},
   "outputs": [],
   "source": [
    "a1 = 0.0\n",
    "b1 = 3.0\n",
    "n1 = 10000"
   ]
  },
  {
   "cell_type": "code",
   "execution_count": 8,
   "id": "cf6efbc5",
   "metadata": {},
   "outputs": [],
   "source": [
    "v1_trap = integrate_trap(f_1, a1, b1, n1)\n",
    "v1_simp = integrate_simp(f_1, a1, b1, n1)"
   ]
  },
  {
   "cell_type": "code",
   "execution_count": 9,
   "id": "218d0d2e",
   "metadata": {},
   "outputs": [
    {
     "name": "stdout",
     "output_type": "stream",
     "text": [
      "trap: 0.010005312312263055\n",
      "simp: 0.010006097905416879\n"
     ]
    }
   ],
   "source": [
    "print(f'trap: {v1_trap}')\n",
    "print(f'simp: {v1_simp}')"
   ]
  },
  {
   "cell_type": "markdown",
   "id": "c7f5abe5",
   "metadata": {},
   "source": [
    "## Problem 2"
   ]
  },
  {
   "cell_type": "code",
   "execution_count": 10,
   "id": "27e2d18f",
   "metadata": {},
   "outputs": [],
   "source": [
    "eps = 1e-4"
   ]
  },
  {
   "cell_type": "code",
   "execution_count": 11,
   "id": "3b43644d",
   "metadata": {},
   "outputs": [],
   "source": [
    "a2 = 0.0\n",
    "b2 = np.sqrt(2.0) * np.tan(np.pi / 2.0 - np.sqrt(2.0) * eps)"
   ]
  },
  {
   "cell_type": "code",
   "execution_count": 12,
   "id": "1eb12007",
   "metadata": {},
   "outputs": [],
   "source": [
    "def f_2(x: float) -> float: \n",
    "    return np.cos(x) / (2.0 + x ** 2.0)"
   ]
  },
  {
   "cell_type": "code",
   "execution_count": 13,
   "id": "62913fb3",
   "metadata": {},
   "outputs": [],
   "source": [
    "n2 = int((8.0 * eps / ((b2 - a2) ** 3.0 * 1.0)) ** (-0.5))\n",
    "h2 = (b2 - a2) / float(n2)"
   ]
  },
  {
   "cell_type": "code",
   "execution_count": 14,
   "id": "9629f0cc",
   "metadata": {},
   "outputs": [],
   "source": [
    "v2_exact = np.exp(-np.sqrt(2.0)) * np.pi / (2.0 * np.sqrt(2.0))"
   ]
  },
  {
   "cell_type": "code",
   "execution_count": 15,
   "id": "ce7ab779",
   "metadata": {},
   "outputs": [],
   "source": [
    "v2_trap = integrate_trap(f_2, 0, b2, int(n2))"
   ]
  },
  {
   "cell_type": "code",
   "execution_count": 16,
   "id": "43a5d925",
   "metadata": {},
   "outputs": [
    {
     "name": "stdout",
     "output_type": "stream",
     "text": [
      "h2 = 0.00028284271906331003\n",
      "v2_trap = 0.2700347947934253\n",
      "v2_exact = 0.2700347978496372\n",
      "|exact - trap|: 3.056211894669758e-09\n"
     ]
    }
   ],
   "source": [
    "print(f'h2 = {h2}')\n",
    "print(f'v2_trap = {v2_trap}')\n",
    "print(f'v2_exact = {v2_exact}')\n",
    "print(f'|exact - trap|: {abs(v2_trap - v2_exact)}')"
   ]
  },
  {
   "cell_type": "markdown",
   "id": "f7db41c3",
   "metadata": {},
   "source": [
    "## Problem 3"
   ]
  },
  {
   "cell_type": "code",
   "execution_count": 17,
   "id": "1af26a28",
   "metadata": {},
   "outputs": [],
   "source": [
    "a3 = 0.0\n",
    "b3 = 10.0\n",
    "n3 = 100000"
   ]
  },
  {
   "cell_type": "code",
   "execution_count": 18,
   "id": "d07a6946",
   "metadata": {},
   "outputs": [],
   "source": [
    "def by_part(x: float) -> float:\n",
    "    return 2.0 * np.sqrt(x) * np.sin(x)\n",
    "\n",
    "\n",
    "def f3(x: float) -> float:\n",
    "    return 2.0 * np.sqrt(x) * np.cos(x)"
   ]
  },
  {
   "cell_type": "code",
   "execution_count": 20,
   "id": "544661e7",
   "metadata": {},
   "outputs": [],
   "source": [
    "v3_trap = (by_part(b3) - by_part(a3)) - integrate_trap(f3, a3, b3, n3)"
   ]
  },
  {
   "cell_type": "code",
   "execution_count": 22,
   "id": "85b684db",
   "metadata": {},
   "outputs": [
    {
     "name": "stdout",
     "output_type": "stream",
     "text": [
      "v3_trap: 1.5256546187755404\n"
     ]
    }
   ],
   "source": [
    "print(f'v3_trap: {v3_trap}')"
   ]
  }
 ],
 "metadata": {
  "kernelspec": {
   "display_name": "Python 3 (ipykernel)",
   "language": "python",
   "name": "python3"
  },
  "language_info": {
   "codemirror_mode": {
    "name": "ipython",
    "version": 3
   },
   "file_extension": ".py",
   "mimetype": "text/x-python",
   "name": "python",
   "nbconvert_exporter": "python",
   "pygments_lexer": "ipython3",
   "version": "3.10.12"
  }
 },
 "nbformat": 4,
 "nbformat_minor": 5
}
