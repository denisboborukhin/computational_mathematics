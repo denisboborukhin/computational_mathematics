{
 "cells": [
  {
   "cell_type": "markdown",
   "id": "75c1f5a5-b9f3-48a8-8859-98c12e62d493",
   "metadata": {},
   "source": [
    "# Задача 1"
   ]
  },
  {
   "cell_type": "code",
   "execution_count": 5,
   "id": "3b466e5e-5114-42e9-9bf3-1e7290e1b2ee",
   "metadata": {},
   "outputs": [
    {
     "name": "stdout",
     "output_type": "stream",
     "text": [
      "Final values:\n",
      "x(t_end) = 1.99842591626557\n",
      "y(t_end) = 0.26272577717212237\n",
      "a(t_end) = 0.10797197720285683\n"
     ]
    }
   ],
   "source": [
    "import numpy as np\n",
    "\n",
    "# Define the system of ODEs\n",
    "def system_of_odes(x, y, a):\n",
    "    dx_dt = x * (1 - 0.5 * x - 2 / (7 * a ** (-2)) * y)\n",
    "    dy_dt = x * (2 * a - 3.5 * a ** 2 * x - 0.5 * y)\n",
    "    da_dt = (2 - 7 * a * x) / 100\n",
    "    return np.array([dx_dt, dy_dt, da_dt])\n",
    "\n",
    "# Define A-stable difference scheme function\n",
    "def a_stable_difference_scheme(x, y, a, dt):\n",
    "    x_new = x + dt * system_of_odes(x, y, a)[0]\n",
    "    y_new = y + dt * system_of_odes(x, y, a)[1]\n",
    "    a_new = a + dt * system_of_odes(x, y, a)[2]\n",
    "    return x_new, y_new, a_new\n",
    "\n",
    "# Define initial conditions\n",
    "x = 1.5\n",
    "y = 10\n",
    "a = 0.0001\n",
    "\n",
    "# Define time parameters\n",
    "dt = 0.01\n",
    "t_end = 10\n",
    "\n",
    "# Iterate using A-stable difference scheme\n",
    "timesteps = int(t_end / dt)\n",
    "for _ in range(timesteps):\n",
    "    x, y, a = a_stable_difference_scheme(x, y, a, dt)\n",
    "\n",
    "# Print final values of x, y, and a\n",
    "print(\"Final values:\")\n",
    "print(\"x(t_end) =\", x)\n",
    "print(\"y(t_end) =\", y)\n",
    "print(\"a(t_end) =\", a)"
   ]
  },
  {
   "cell_type": "code",
   "execution_count": null,
   "id": "381cbe20-38d4-46bb-90af-26a07f6360fa",
   "metadata": {},
   "outputs": [],
   "source": []
  }
 ],
 "metadata": {
  "kernelspec": {
   "display_name": "Python 3 (ipykernel)",
   "language": "python",
   "name": "python3"
  },
  "language_info": {
   "codemirror_mode": {
    "name": "ipython",
    "version": 3
   },
   "file_extension": ".py",
   "mimetype": "text/x-python",
   "name": "python",
   "nbconvert_exporter": "python",
   "pygments_lexer": "ipython3",
   "version": "3.10.12"
  }
 },
 "nbformat": 4,
 "nbformat_minor": 5
}
